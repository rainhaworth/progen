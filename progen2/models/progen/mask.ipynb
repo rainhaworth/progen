{
 "cells": [
  {
   "cell_type": "code",
   "execution_count": 15,
   "metadata": {},
   "outputs": [],
   "source": [
    "import numpy as np"
   ]
  },
  {
   "cell_type": "code",
   "execution_count": 48,
   "metadata": {},
   "outputs": [
    {
     "name": "stdout",
     "output_type": "stream",
     "text": [
      "[LHVVAAIQARMGSTRLPGKVLVSIAGRPTIQRIAERLAVCQELDAVAVSTSV]\n",
      "[11, 15, 16, 17, 19, 20, 21]\n"
     ]
    },
    {
     "data": {
      "text/plain": [
       "54"
      ]
     },
     "execution_count": 48,
     "metadata": {},
     "output_type": "execute_result"
    }
   ],
   "source": [
    "# inputs: string, set of indices within [0, len(string)), mask dimensions\n",
    "# string = protein sequence, indices specify binding site coordinates within sequence\n",
    "# for testing use arbitrary substring from the example in README.md and pretend [ is BOS, ] is EOS\n",
    "pseq = 'LHVVAAIQARMGSTRLPGKVLVSIAGRPTIQRIAERLAVCQELDAVAVSTSV'\n",
    "indices = [10, 14, 15, 16, 18, 19, 20]\n",
    "dim = 64\n",
    "\n",
    "pseq = '[' + pseq + ']'\n",
    "indices = [e+1 for e in indices]\n",
    "\n",
    "print(pseq)\n",
    "print(indices)\n",
    "len(pseq)"
   ]
  },
  {
   "cell_type": "code",
   "execution_count": 49,
   "metadata": {},
   "outputs": [
    {
     "name": "stdout",
     "output_type": "stream",
     "text": [
      "-----------M---RLP-KVL--------------------------------"
     ]
    }
   ],
   "source": [
    "# display (fake) binding site\n",
    "def show_seq_idx(seq, idx):\n",
    "    for i in range(len(seq)):\n",
    "        if i in idx:\n",
    "            print(seq[i], end='')\n",
    "        else:\n",
    "            print('-', end='')\n",
    "            \n",
    "show_seq_idx(pseq, indices)"
   ]
  },
  {
   "cell_type": "code",
   "execution_count": 50,
   "metadata": {},
   "outputs": [
    {
     "name": "stdout",
     "output_type": "stream",
     "text": [
      "----------RM---RLP-KVL--------------------------------\n",
      "----------RM--TRLP-KVL--------------------------------\n",
      "----------RMG-TRLP-KVL--------------------------------\n",
      "----------RMG-TRLP-KVLV-------------------------------\n",
      "----------RMG-TRLP-KVLVS------------------------------\n",
      "----------RMGSTRLP-KVLVS------------------------------\n",
      "----------RMGSTRLPGKVLVS------------------------------\n",
      "---------ARMGSTRLPGKVLVS------------------------------\n",
      "--------QARMGSTRLPGKVLVS------------------------------\n",
      "-------IQARMGSTRLPGKVLVS------------------------------\n",
      "------AIQARMGSTRLPGKVLVS------------------------------\n",
      "-----AAIQARMGSTRLPGKVLVS------------------------------\n",
      "----VAAIQARMGSTRLPGKVLVS------------------------------\n",
      "---VVAAIQARMGSTRLPGKVLVS------------------------------\n",
      "---VVAAIQARMGSTRLPGKVLVSI-----------------------------\n",
      "--HVVAAIQARMGSTRLPGKVLVSI-----------------------------\n",
      "--HVVAAIQARMGSTRLPGKVLVSIA----------------------------\n",
      "--HVVAAIQARMGSTRLPGKVLVSIAG---------------------------\n",
      "--HVVAAIQARMGSTRLPGKVLVSIAGR--------------------------\n",
      "--HVVAAIQARMGSTRLPGKVLVSIAGRP-------------------------\n",
      "--HVVAAIQARMGSTRLPGKVLVSIAGRPT------------------------\n",
      "-LHVVAAIQARMGSTRLPGKVLVSIAGRPT------------------------\n",
      "-LHVVAAIQARMGSTRLPGKVLVSIAGRPTI-----------------------\n",
      "-LHVVAAIQARMGSTRLPGKVLVSIAGRPTIQ----------------------\n",
      "-LHVVAAIQARMGSTRLPGKVLVSIAGRPTIQR---------------------\n",
      "[LHVVAAIQARMGSTRLPGKVLVSIAGRPTIQR---------------------\n",
      "[LHVVAAIQARMGSTRLPGKVLVSIAGRPTIQRI--------------------\n",
      "[LHVVAAIQARMGSTRLPGKVLVSIAGRPTIQRIA-------------------\n",
      "[LHVVAAIQARMGSTRLPGKVLVSIAGRPTIQRIAE------------------\n",
      "[LHVVAAIQARMGSTRLPGKVLVSIAGRPTIQRIAER-----------------\n",
      "[LHVVAAIQARMGSTRLPGKVLVSIAGRPTIQRIAERL----------------\n",
      "[LHVVAAIQARMGSTRLPGKVLVSIAGRPTIQRIAERLA---------------\n",
      "[LHVVAAIQARMGSTRLPGKVLVSIAGRPTIQRIAERLAV--------------\n",
      "[LHVVAAIQARMGSTRLPGKVLVSIAGRPTIQRIAERLAVC-------------\n",
      "[LHVVAAIQARMGSTRLPGKVLVSIAGRPTIQRIAERLAVCQ------------\n",
      "[LHVVAAIQARMGSTRLPGKVLVSIAGRPTIQRIAERLAVCQE-----------\n",
      "[LHVVAAIQARMGSTRLPGKVLVSIAGRPTIQRIAERLAVCQEL----------\n",
      "[LHVVAAIQARMGSTRLPGKVLVSIAGRPTIQRIAERLAVCQELD---------\n",
      "[LHVVAAIQARMGSTRLPGKVLVSIAGRPTIQRIAERLAVCQELDA--------\n",
      "[LHVVAAIQARMGSTRLPGKVLVSIAGRPTIQRIAERLAVCQELDAV-------\n",
      "[LHVVAAIQARMGSTRLPGKVLVSIAGRPTIQRIAERLAVCQELDAVA------\n",
      "[LHVVAAIQARMGSTRLPGKVLVSIAGRPTIQRIAERLAVCQELDAVAV-----\n",
      "[LHVVAAIQARMGSTRLPGKVLVSIAGRPTIQRIAERLAVCQELDAVAVS----\n",
      "[LHVVAAIQARMGSTRLPGKVLVSIAGRPTIQRIAERLAVCQELDAVAVST---\n",
      "[LHVVAAIQARMGSTRLPGKVLVSIAGRPTIQRIAERLAVCQELDAVAVSTS--\n",
      "[LHVVAAIQARMGSTRLPGKVLVSIAGRPTIQRIAERLAVCQELDAVAVSTSV-\n",
      "[LHVVAAIQARMGSTRLPGKVLVSIAGRPTIQRIAERLAVCQELDAVAVSTSV]\n"
     ]
    }
   ],
   "source": [
    "# generate random path from indices to full sequence as list of integers\n",
    "# assume indices contains at least 1 element\n",
    "# aiming for correctness, not optimization\n",
    "path = []\n",
    "indices_curr = sorted(indices)\n",
    "while len(indices_curr) < len(pseq):\n",
    "    # get list of contiguous segments in indices_curr as 2-tuples\n",
    "    # single-element segments have same value for each tuple field, this is fine\n",
    "    segments = []\n",
    "    seg_start = indices_curr[0]\n",
    "    prev = seg_start\n",
    "    # iterate over elements past first; hopefully it just skips this and doesn't throw an error if 1 element\n",
    "    for idx in indices_curr[1:]:\n",
    "        if idx - prev == 1:\n",
    "            prev = idx\n",
    "            continue\n",
    "        else:\n",
    "            # complete segment\n",
    "            segments.append((seg_start, prev))\n",
    "            # start new segment\n",
    "            seg_start = idx\n",
    "            prev = idx\n",
    "    # get last segment\n",
    "    segments.append((seg_start, indices_curr[-1]))\n",
    "    \n",
    "    # check whether we need to move further past the leftmost and rightmost elements in the sequence\n",
    "    found_start = (indices_curr[0] == 0)\n",
    "    found_end = (indices_curr[-1] == len(pseq) - 1)\n",
    "    \n",
    "    # for each segment, there are 2 possible steps: move left of leftmost index or move right of rightmost\n",
    "    # get list of all such steps\n",
    "    steps = []\n",
    "    for segment in segments:\n",
    "        steps.append(segment[0]-1)\n",
    "        steps.append(segment[1]+1)\n",
    "\n",
    "    # prune if necessary\n",
    "    if found_start:\n",
    "        steps = steps[1:]\n",
    "    if found_end:\n",
    "        steps = steps[:-1]\n",
    "    \n",
    "    # get unique; if 2 segments are separated by 1 index, that index will be duplicated and its probability will be doubled\n",
    "    # this is probably not a huge deal but i would rather avoid doing it unintentionally\n",
    "    steps = np.unique(steps)\n",
    "    \n",
    "    # select move, update path and indices\n",
    "    step = np.random.choice(steps)\n",
    "    path.append(step)\n",
    "    indices_curr.append(step)\n",
    "    indices_curr = sorted(indices_curr)\n",
    "\n",
    "    # visualize path\n",
    "    show_seq_idx(pseq, indices_curr)\n",
    "    print() # need newline"
   ]
  },
  {
   "cell_type": "code",
   "execution_count": 64,
   "metadata": {},
   "outputs": [
    {
     "name": "stdout",
     "output_type": "stream",
     "text": [
      "[10, 14, 12, 22, 23, 13, 18, 9, 8, 7, 6, 5, 4, 3, 24, 2, 25, 26, 27, 28, 29, 1, 30, 31, 32, 0, 33, 34, 35, 36, 37, 38, 39, 40, 41, 42, 43, 44, 45, 46, 47, 48, 49, 50, 51, 52, 53]\n"
     ]
    }
   ],
   "source": [
    "print(path)"
   ]
  },
  {
   "cell_type": "code",
   "execution_count": null,
   "metadata": {},
   "outputs": [
    {
     "name": "stdout",
     "output_type": "stream",
     "text": [
      ".................................###############################\n",
      "#.............................##################################\n",
      "##.......................#######################################\n",
      "###.....................########################################\n",
      "####....................########################################\n",
      "#####...................########################################\n",
      "######..................########################################\n",
      "#######.................########################################\n",
      "########................########################################\n",
      "#########...............########################################\n",
      "##########..###...#...##########################################\n",
      "###########.###...#...##########################################\n",
      "##########...#....#...##########################################\n",
      "##########........#.....########################################\n",
      "##########..##....#...##########################################\n",
      "###########.###...#...##########################################\n",
      "###########.###...#...##########################################\n",
      "###########.###...#...##########################################\n",
      "##########..............########################################\n",
      "###########.###...#...##########################################\n",
      "###########.###...#...##########################################\n",
      "###########.###...#...##########################################\n",
      "##########...#....#....#########################################\n",
      "##########...#....#.....########################################\n",
      "###......................#######################################\n",
      "##........................######################################\n",
      "##.........................#####################################\n",
      "##..........................####################################\n",
      "##...........................###################################\n",
      "##............................##################################\n",
      "#..............................#################################\n",
      "#...............................################################\n",
      "#................................###############################\n",
      "..................................##############################\n",
      "...................................#############################\n",
      "....................................############################\n",
      ".....................................###########################\n",
      "......................................##########################\n",
      ".......................................#########################\n",
      "........................................########################\n",
      ".........................................#######################\n",
      "..........................................######################\n",
      "...........................................#####################\n",
      "............................................####################\n",
      ".............................................###################\n",
      "..............................................##################\n",
      "...............................................#################\n",
      "................................................################\n",
      ".................................................###############\n",
      "..................................................##############\n",
      "...................................................#############\n",
      "....................................................############\n",
      ".....................................................###########\n",
      "......................................................##########\n",
      "################################################################\n",
      "################################################################\n",
      "################################################################\n",
      "################################################################\n",
      "################################################################\n",
      "################################################################\n",
      "################################################################\n",
      "################################################################\n",
      "################################################################\n",
      "################################################################\n"
     ]
    }
   ],
   "source": [
    "# create mask\n",
    "mask = np.zeros((dim, dim))\n",
    "\n",
    "# for each index in original binding site, unmask the entire column\n",
    "mask[:len(pseq), indices] = 1\n",
    "\n",
    "# construct mask\n",
    "for path_idx, step in enumerate(path):\n",
    "    # for this step + all later path steps, add on the current step\n",
    "    populated_idxs = path[path_idx:]\n",
    "    mask[populated_idxs, step] = 1\n",
    "\n",
    "# visualize mask; # = masked out, . = unmasked\n",
    "for row in mask:\n",
    "    for e in row:\n",
    "        if e == 0:\n",
    "            print('#', end='')\n",
    "        else:\n",
    "            print('.', end='')\n",
    "    print()"
   ]
  },
  {
   "cell_type": "code",
   "execution_count": 72,
   "metadata": {},
   "outputs": [
    {
     "data": {
      "text/plain": [
       "11"
      ]
     },
     "execution_count": 72,
     "metadata": {},
     "output_type": "execute_result"
    }
   ],
   "source": [
    "# offset for positional embeddings\n",
    "binding_site_start = sorted(indices)[0]\n",
    "binding_site_start"
   ]
  },
  {
   "cell_type": "code",
   "execution_count": null,
   "metadata": {},
   "outputs": [],
   "source": [
    "# return values: pseq, mask, binding_site_start\n",
    "# not implemented yet: tokenization"
   ]
  }
 ],
 "metadata": {
  "kernelspec": {
   "display_name": "tfpt",
   "language": "python",
   "name": "python3"
  },
  "language_info": {
   "codemirror_mode": {
    "name": "ipython",
    "version": 3
   },
   "file_extension": ".py",
   "mimetype": "text/x-python",
   "name": "python",
   "nbconvert_exporter": "python",
   "pygments_lexer": "ipython3",
   "version": "3.9.20"
  }
 },
 "nbformat": 4,
 "nbformat_minor": 2
}
